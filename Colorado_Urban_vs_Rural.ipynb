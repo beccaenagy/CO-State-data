{
  "nbformat": 4,
  "nbformat_minor": 0,
  "metadata": {
    "colab": {
      "provenance": [],
      "authorship_tag": "ABX9TyPKJnTfrVymIxx8Jw9NYOO/",
      "include_colab_link": true
    },
    "kernelspec": {
      "name": "python3",
      "display_name": "Python 3"
    },
    "language_info": {
      "name": "python"
    }
  },
  "cells": [
    {
      "cell_type": "markdown",
      "metadata": {
        "id": "view-in-github",
        "colab_type": "text"
      },
      "source": [
        "<a href=\"https://colab.research.google.com/github/beccaenagy/CO-State-data/blob/main/Colorado_Urban_vs_Rural.ipynb\" target=\"_parent\"><img src=\"https://colab.research.google.com/assets/colab-badge.svg\" alt=\"Open In Colab\"/></a>"
      ]
    },
    {
      "cell_type": "code",
      "execution_count": 1,
      "metadata": {
        "colab": {
          "base_uri": "https://localhost:8080/"
        },
        "id": "RnPU7Y5yeqdl",
        "outputId": "3f153281-6ec9-44b9-8f9d-f8941cbf768d"
      },
      "outputs": [
        {
          "output_type": "stream",
          "name": "stdout",
          "text": [
            "Collecting contextily\n",
            "  Downloading contextily-1.5.0-py3-none-any.whl (17 kB)\n",
            "Requirement already satisfied: geopy in /usr/local/lib/python3.10/dist-packages (from contextily) (2.3.0)\n",
            "Requirement already satisfied: matplotlib in /usr/local/lib/python3.10/dist-packages (from contextily) (3.7.1)\n",
            "Collecting mercantile (from contextily)\n",
            "  Downloading mercantile-1.2.1-py3-none-any.whl (14 kB)\n",
            "Requirement already satisfied: pillow in /usr/local/lib/python3.10/dist-packages (from contextily) (9.4.0)\n",
            "Collecting rasterio (from contextily)\n",
            "  Downloading rasterio-1.3.9-cp310-cp310-manylinux2014_x86_64.whl (20.6 MB)\n",
            "\u001b[2K     \u001b[90m━━━━━━━━━━━━━━━━━━━━━━━━━━━━━━━━━━━━━━━━\u001b[0m \u001b[32m20.6/20.6 MB\u001b[0m \u001b[31m35.4 MB/s\u001b[0m eta \u001b[36m0:00:00\u001b[0m\n",
            "\u001b[?25hRequirement already satisfied: requests in /usr/local/lib/python3.10/dist-packages (from contextily) (2.31.0)\n",
            "Requirement already satisfied: joblib in /usr/local/lib/python3.10/dist-packages (from contextily) (1.3.2)\n",
            "Requirement already satisfied: xyzservices in /usr/local/lib/python3.10/dist-packages (from contextily) (2023.10.1)\n",
            "Requirement already satisfied: geographiclib<3,>=1.52 in /usr/local/lib/python3.10/dist-packages (from geopy->contextily) (2.0)\n",
            "Requirement already satisfied: contourpy>=1.0.1 in /usr/local/lib/python3.10/dist-packages (from matplotlib->contextily) (1.2.0)\n",
            "Requirement already satisfied: cycler>=0.10 in /usr/local/lib/python3.10/dist-packages (from matplotlib->contextily) (0.12.1)\n",
            "Requirement already satisfied: fonttools>=4.22.0 in /usr/local/lib/python3.10/dist-packages (from matplotlib->contextily) (4.47.2)\n",
            "Requirement already satisfied: kiwisolver>=1.0.1 in /usr/local/lib/python3.10/dist-packages (from matplotlib->contextily) (1.4.5)\n",
            "Requirement already satisfied: numpy>=1.20 in /usr/local/lib/python3.10/dist-packages (from matplotlib->contextily) (1.23.5)\n",
            "Requirement already satisfied: packaging>=20.0 in /usr/local/lib/python3.10/dist-packages (from matplotlib->contextily) (23.2)\n",
            "Requirement already satisfied: pyparsing>=2.3.1 in /usr/local/lib/python3.10/dist-packages (from matplotlib->contextily) (3.1.1)\n",
            "Requirement already satisfied: python-dateutil>=2.7 in /usr/local/lib/python3.10/dist-packages (from matplotlib->contextily) (2.8.2)\n",
            "Requirement already satisfied: click>=3.0 in /usr/local/lib/python3.10/dist-packages (from mercantile->contextily) (8.1.7)\n",
            "Collecting affine (from rasterio->contextily)\n",
            "  Downloading affine-2.4.0-py3-none-any.whl (15 kB)\n",
            "Requirement already satisfied: attrs in /usr/local/lib/python3.10/dist-packages (from rasterio->contextily) (23.2.0)\n",
            "Requirement already satisfied: certifi in /usr/local/lib/python3.10/dist-packages (from rasterio->contextily) (2023.11.17)\n",
            "Requirement already satisfied: cligj>=0.5 in /usr/local/lib/python3.10/dist-packages (from rasterio->contextily) (0.7.2)\n",
            "Collecting snuggs>=1.4.1 (from rasterio->contextily)\n",
            "  Downloading snuggs-1.4.7-py3-none-any.whl (5.4 kB)\n",
            "Requirement already satisfied: click-plugins in /usr/local/lib/python3.10/dist-packages (from rasterio->contextily) (1.1.1)\n",
            "Requirement already satisfied: setuptools in /usr/local/lib/python3.10/dist-packages (from rasterio->contextily) (67.7.2)\n",
            "Requirement already satisfied: charset-normalizer<4,>=2 in /usr/local/lib/python3.10/dist-packages (from requests->contextily) (3.3.2)\n",
            "Requirement already satisfied: idna<4,>=2.5 in /usr/local/lib/python3.10/dist-packages (from requests->contextily) (3.6)\n",
            "Requirement already satisfied: urllib3<3,>=1.21.1 in /usr/local/lib/python3.10/dist-packages (from requests->contextily) (2.0.7)\n",
            "Requirement already satisfied: six>=1.5 in /usr/local/lib/python3.10/dist-packages (from python-dateutil>=2.7->matplotlib->contextily) (1.16.0)\n",
            "Installing collected packages: snuggs, mercantile, affine, rasterio, contextily\n",
            "Successfully installed affine-2.4.0 contextily-1.5.0 mercantile-1.2.1 rasterio-1.3.9 snuggs-1.4.7\n"
          ]
        }
      ],
      "source": [
        "# Emissions and Facilities in Urban Areas\n",
        "\n",
        "# 1. Import Necessary Libraries\n",
        "!pip install contextily\n",
        "import pandas as pd\n",
        "import geopandas as gpd\n",
        "import matplotlib.pyplot as plt\n",
        "from google.colab import drive\n",
        "import contextily as ctx\n",
        "\n",
        "\n",
        "# 2. Initialize and Mount Drive\n",
        "drive.mount('/content/drive', force_remount=True)\n",
        "\n",
        "# 3. Load and Filter Data\n",
        "data_url = \"https://docs.google.com/spreadsheets/d/e/2PACX-1vSEWZott_Y4jx2DTZsuyrjN_UP8s6dXddz3-UzCKF_Xyzt1y7e6i8HRKHQmOMEHYNiAQ6dmm7BWbZZT/pub?gid=0&single=true&output=csv\"\n",
        "df = pd.read_csv(data_url)\n",
        "\n",
        "filtered_data_emissions = df[(df['Exists as TAC?'] == 'EXISTS') &\n",
        "                             (df['Has Emissions?'] == 'Yes') &\n",
        "                             (df['Unit of Measure'] == 'Pounds')]\n",
        "\n",
        "# 4. Load and Process Geographic Data\n",
        "colorado_map = gpd.read_file('/content/drive/MyDrive/Colab/Colorado State Data/cb_2018_us_state_20m.shp')\n",
        "colorado_map = colorado_map[colorado_map['STUSPS'] == 'CO'].to_crs(epsg=3857)\n",
        "\n",
        "urban_areas = gpd.read_file('/content/drive/MyDrive/Colab/Urban/cb_2020_us_ua20_500k.shp').to_crs(epsg=3857)\n",
        "urban_areas_in_CO = gpd.clip(urban_areas, colorado_map)\n",
        "\n",
        "# 5. Visualize Urban Areas in Colorado\n",
        "fig, ax = plt.subplots(figsize=(10, 15))\n",
        "colorado_map.boundary.plot(ax=ax, color='black', linewidth=1)\n",
        "urban_areas_in_CO.plot(ax=ax, facecolor='blue', alpha=0.5, edgecolor='none')\n",
        "\n",
        "# Facilities in urban areas (Orange)\n",
        "facilities_in_urban.plot(ax=ax, color='orange', markersize=8, label='Facilities in Urban Areas')\n",
        "\n",
        "# Facilities in rural areas (Red)\n",
        "rural_facilities = geo_df.loc[~geo_df.index.isin(facilities_in_urban.index)]\n",
        "rural_facilities.plot(ax=ax, color='red', markersize=8, label='Facilities in Rural Areas')\n",
        "\n",
        "minx, miny, maxx, maxy = colorado_map.total_bounds\n",
        "ax.set_xlim(minx, maxx)\n",
        "ax.set_ylim(miny, maxy)\n",
        "ctx.add_basemap(ax, source=ctx.providers.OpenStreetMap.Mapnik, zoom='auto')\n",
        "ax.set_xlabel('Longitude')\n",
        "ax.set_ylabel('Latitude')\n",
        "ax.set_title(\"Urban and Rural Facilities in Colorado\")\n",
        "ax.legend()\n",
        "plt.show()\n",
        "\n",
        "# 6. Spatial Analysis\n",
        "geo_df = gpd.GeoDataFrame(filtered_data_emissions,\n",
        "                          geometry=gpd.points_from_xy(filtered_data_emissions.Longitude,\n",
        "                                                      filtered_data_emissions.Latitude),\n",
        "                          crs=\"EPSG:4326\").to_crs(epsg=3857)\n",
        "\n",
        "facilities_in_urban = gpd.sjoin(geo_df, urban_areas_in_CO, how=\"inner\", op=\"within\")\n",
        "total_emissions_urban_pounds = facilities_in_urban['SUM of Stack and Fugtive'].sum()\n",
        "total_emissions_urban_tons = total_emissions_urban_pounds / 2000\n",
        "\n",
        "# Calculate Total Emissions Urban and Rural\n",
        "total_emissions_all_pounds = geo_df['SUM of Stack and Fugtive'].sum()\n",
        "total_emissions_all_tons = total_emissions_all_pounds / 2000\n",
        "\n",
        "total_emissions_rural_tons = total_emissions_all_tons - total_emissions_urban_tons\n",
        "\n",
        "# Calculate number of facilities in Urban and Rural areas\n",
        "num_facilities_urban = facilities_in_urban['TRI ID'].nunique()\n",
        "num_facilities_total = geo_df['TRI ID'].nunique()\n",
        "num_facilities_rural = num_facilities_total - num_facilities_urban\n",
        "\n",
        "# Calculate percentage of emissions for Urban and Rural areas\n",
        "percentage_emissions_urban = (total_emissions_urban_tons / total_emissions_all_tons) * 100\n",
        "percentage_emissions_rural = 100 - percentage_emissions_urban\n",
        "\n",
        "# Print the results\n",
        "print(f\"Total number of facilities: {num_facilities_total}\")\n",
        "print(f\"Total emissions: {total_emissions_all_tons:.2f} tons per year.\\n\")\n",
        "\n",
        "print(f\"Number of facilities in urban areas: {num_facilities_urban}\")\n",
        "print(f\"Emissions in urban areas: {total_emissions_urban_tons:.2f} tons per year ({percentage_emissions_urban:.2f}% of total).\\n\")\n",
        "\n",
        "print(f\"Number of facilities in rural areas: {num_facilities_rural}\")\n",
        "print(f\"Emissions in rural areas: {total_emissions_rural_tons:.2f} tons per year ({percentage_emissions_rural:.2f}% of total).\")\n"
      ]
    },
    {
      "cell_type": "code",
      "source": [
        "fig.savefig(\"/content/drive/MyDrive/Colab/colorado_facilities_in_DI_Communities_map.png\", dpi=300, bbox_inches='tight')\n"
      ],
      "metadata": {
        "id": "Plu7MaCylZio"
      },
      "execution_count": null,
      "outputs": []
    }
  ]
}